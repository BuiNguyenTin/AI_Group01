{
 "cells": [
  {
   "cell_type": "code",
   "execution_count": 1,
   "metadata": {},
   "outputs": [
    {
     "ename": "ValueError",
     "evalue": "invalid literal for int() with base 10: 'P'",
     "output_type": "error",
     "traceback": [
      "\u001b[1;31m---------------------------------------------------------------------------\u001b[0m",
      "\u001b[1;31mValueError\u001b[0m                                Traceback (most recent call last)",
      "Cell \u001b[1;32mIn[1], line 35\u001b[0m\n\u001b[0;32m     31\u001b[0m         ax[\u001b[38;5;241m1\u001b[39m]\u001b[38;5;241m.\u001b[39mtext(i, j, label, ha\u001b[38;5;241m=\u001b[39m\u001b[38;5;124m'\u001b[39m\u001b[38;5;124mcenter\u001b[39m\u001b[38;5;124m'\u001b[39m, va\u001b[38;5;241m=\u001b[39m\u001b[38;5;124m'\u001b[39m\u001b[38;5;124mcenter\u001b[39m\u001b[38;5;124m'\u001b[39m)\n\u001b[0;32m     33\u001b[0m     plt\u001b[38;5;241m.\u001b[39mshow()\n\u001b[1;32m---> 35\u001b[0m floor1, floor2 \u001b[38;5;241m=\u001b[39m \u001b[43mcreate_maze\u001b[49m\u001b[43m(\u001b[49m\u001b[43m)\u001b[49m\n\u001b[0;32m     36\u001b[0m visualize_maze(floor1, floor2)\n",
      "Cell \u001b[1;32mIn[1], line 12\u001b[0m, in \u001b[0;36mcreate_maze\u001b[1;34m()\u001b[0m\n\u001b[0;32m      9\u001b[0m floor1 \u001b[38;5;241m=\u001b[39m np\u001b[38;5;241m.\u001b[39mwhere(floor1 \u001b[38;5;241m==\u001b[39m \u001b[38;5;241m-\u001b[39m\u001b[38;5;241m1\u001b[39m, floor1, np\u001b[38;5;241m.\u001b[39mrandom\u001b[38;5;241m.\u001b[39mrandint(\u001b[38;5;241m1\u001b[39m, \u001b[38;5;241m21\u001b[39m, size\u001b[38;5;241m=\u001b[39m(\u001b[38;5;241m15\u001b[39m, \u001b[38;5;241m15\u001b[39m)))\n\u001b[0;32m     10\u001b[0m floor2 \u001b[38;5;241m=\u001b[39m np\u001b[38;5;241m.\u001b[39mwhere(floor2 \u001b[38;5;241m==\u001b[39m \u001b[38;5;241m-\u001b[39m\u001b[38;5;241m1\u001b[39m, floor2, np\u001b[38;5;241m.\u001b[39mrandom\u001b[38;5;241m.\u001b[39mrandint(\u001b[38;5;241m1\u001b[39m, \u001b[38;5;241m21\u001b[39m, size\u001b[38;5;241m=\u001b[39m(\u001b[38;5;241m15\u001b[39m, \u001b[38;5;241m15\u001b[39m)))\n\u001b[1;32m---> 12\u001b[0m \u001b[43mfloor1\u001b[49m\u001b[43m[\u001b[49m\u001b[38;5;241;43m14\u001b[39;49m\u001b[43m]\u001b[49m\u001b[43m[\u001b[49m\u001b[38;5;241;43m0\u001b[39;49m\u001b[43m]\u001b[49m \u001b[38;5;241m=\u001b[39m \u001b[38;5;124m'\u001b[39m\u001b[38;5;124mP\u001b[39m\u001b[38;5;124m'\u001b[39m  \n\u001b[0;32m     13\u001b[0m floor2[\u001b[38;5;241m14\u001b[39m][\u001b[38;5;241m0\u001b[39m] \u001b[38;5;241m=\u001b[39m \u001b[38;5;124m'\u001b[39m\u001b[38;5;124mG\u001b[39m\u001b[38;5;124m'\u001b[39m \n\u001b[0;32m     15\u001b[0m floor1[\u001b[38;5;241m0\u001b[39m][\u001b[38;5;241m14\u001b[39m] \u001b[38;5;241m=\u001b[39m \u001b[38;5;241m1\u001b[39m \n",
      "\u001b[1;31mValueError\u001b[0m: invalid literal for int() with base 10: 'P'"
     ]
    }
   ],
   "source": [
    "import numpy as np\n",
    "import matplotlib.pyplot as plt\n",
    "\n",
    "def create_maze():\n",
    "    floor1 = np.random.choice([1, -1], size=(15, 15), p=[0.5, 0.5])\n",
    "    floor2 = np.random.choice([1, -1], size=(15, 15), p=[0.5, 0.5])\n",
    "    \n",
    "    # Ensure at least 50% obstacles\n",
    "    floor1 = np.where(floor1 == -1, floor1, np.random.randint(1, 21, size=(15, 15)))\n",
    "    floor2 = np.where(floor2 == -1, floor2, np.random.randint(1, 21, size=(15, 15)))\n",
    "\n",
    "    floor1[14][0] = 'P'  \n",
    "    floor2[14][0] = 'G' \n",
    "\n",
    "    floor1[0][14] = 1 \n",
    "    floor2[0][14] = 1\n",
    "\n",
    "    return floor1, floor2\n",
    "\n",
    "def visualize_maze(floor1, floor2):\n",
    "    fig, ax = plt.subplots(1, 2, figsize=(15, 7))\n",
    "\n",
    "    ax[0].imshow(floor1, cmap='coolwarm', interpolation='nearest')\n",
    "    ax[0].set_title('Floor 1')\n",
    "    for (j, i), label in np.ndenumerate(floor1):\n",
    "        ax[0].text(i, j, label, ha='center', va='center')\n",
    "\n",
    "    ax[1].imshow(floor2, cmap='coolwarm', interpolation='nearest')\n",
    "    ax[1].set_title('Floor 2')\n",
    "    for (j, i), label in np.ndenumerate(floor2):\n",
    "        ax[1].text(i, j, label, ha='center', va='center')\n",
    "\n",
    "    plt.show()\n",
    "\n",
    "floor1, floor2 = create_maze()\n",
    "visualize_maze(floor1, floor2)\n"
   ]
  }
 ],
 "metadata": {
  "kernelspec": {
   "display_name": "Python 3",
   "language": "python",
   "name": "python3"
  },
  "language_info": {
   "codemirror_mode": {
    "name": "ipython",
    "version": 3
   },
   "file_extension": ".py",
   "mimetype": "text/x-python",
   "name": "python",
   "nbconvert_exporter": "python",
   "pygments_lexer": "ipython3",
   "version": "3.12.3"
  }
 },
 "nbformat": 4,
 "nbformat_minor": 2
}
